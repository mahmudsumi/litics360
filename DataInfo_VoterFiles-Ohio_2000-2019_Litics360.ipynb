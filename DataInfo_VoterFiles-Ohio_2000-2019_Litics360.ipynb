{
 "cells": [
  {
   "cell_type": "code",
   "execution_count": null,
   "metadata": {},
   "outputs": [],
   "source": [
    "import numpy as np\n",
    "import pandas as pd\n",
    "import matplotlib.pyplot as m"
   ]
  },
  {
   "cell_type": "code",
   "execution_count": 28,
   "metadata": {},
   "outputs": [],
   "source": [
    "data_file1 = pd.read_csv(\"SWVF_1_22.txt\", sep=\",\", quotechar='\"', header=0, encoding='ISO-8859-1', na_values=['NA'],low_memory=False)"
   ]
  },
  {
   "cell_type": "code",
   "execution_count": null,
   "metadata": {},
   "outputs": [],
   "source": [
    "data_file2 = pd.read_csv(\"SWVF_23_44.txt\", sep=\",\", quotechar='\"', header=0, encoding='ISO-8859-1', na_values=['NA'],low_memory=False)"
   ]
  },
  {
   "cell_type": "code",
   "execution_count": null,
   "metadata": {},
   "outputs": [],
   "source": [
    "data_file3 = pd.read_csv(\"SWVF_45_66.txt\", sep=\",\", quotechar='\"', header=0, encoding='ISO-8859-1', na_values=['NA'],low_memory=False)"
   ]
  },
  {
   "cell_type": "code",
   "execution_count": null,
   "metadata": {},
   "outputs": [],
   "source": [
    "data_file4 = pd.read_csv(\"SWVF_67_88.txt\", sep=\",\", quotechar='\"', header=0, encoding='ISO-8859-1', na_values=['NA'],low_memory=False)"
   ]
  },
  {
   "cell_type": "code",
   "execution_count": 29,
   "metadata": {},
   "outputs": [],
   "source": [
    "df = pd.concat([data_file1,data_file2,data_file3,data_file4], axis=0, join='outer', join_axes=None, ignore_index=False,\n",
    "          keys=None, levels=None, names=None, verify_integrity=False, copy=True)"
   ]
  },
  {
   "cell_type": "code",
   "execution_count": 30,
   "metadata": {},
   "outputs": [
    {
     "data": {
      "text/html": [
       "<div>\n",
       "<style scoped>\n",
       "    .dataframe tbody tr th:only-of-type {\n",
       "        vertical-align: middle;\n",
       "    }\n",
       "\n",
       "    .dataframe tbody tr th {\n",
       "        vertical-align: top;\n",
       "    }\n",
       "\n",
       "    .dataframe thead th {\n",
       "        text-align: right;\n",
       "    }\n",
       "</style>\n",
       "<table border=\"1\" class=\"dataframe\">\n",
       "  <thead>\n",
       "    <tr style=\"text-align: right;\">\n",
       "      <th></th>\n",
       "      <th>SOS_VOTERID</th>\n",
       "      <th>COUNTY_NUMBER</th>\n",
       "      <th>COUNTY_ID</th>\n",
       "      <th>LAST_NAME</th>\n",
       "      <th>FIRST_NAME</th>\n",
       "      <th>MIDDLE_NAME</th>\n",
       "      <th>SUFFIX</th>\n",
       "      <th>DATE_OF_BIRTH</th>\n",
       "      <th>REGISTRATION_DATE</th>\n",
       "      <th>VOTER_STATUS</th>\n",
       "      <th>...</th>\n",
       "      <th>GENERAL-11/08/2016</th>\n",
       "      <th>PRIMARY-05/02/2017</th>\n",
       "      <th>PRIMARY-09/12/2017</th>\n",
       "      <th>GENERAL-11/07/2017</th>\n",
       "      <th>PRIMARY-05/08/2018</th>\n",
       "      <th>GENERAL-08/07/2018</th>\n",
       "      <th>GENERAL-11/06/2018</th>\n",
       "      <th>PRIMARY-05/07/2019</th>\n",
       "      <th>PRIMARY-09/10/2019</th>\n",
       "      <th>GENERAL-11/05/2019</th>\n",
       "    </tr>\n",
       "  </thead>\n",
       "  <tbody>\n",
       "    <tr>\n",
       "      <th>0</th>\n",
       "      <td>OH0024843333</td>\n",
       "      <td>18</td>\n",
       "      <td>2854607</td>\n",
       "      <td>KERBER</td>\n",
       "      <td>RYAN</td>\n",
       "      <td>R</td>\n",
       "      <td>NaN</td>\n",
       "      <td>1991-05-08</td>\n",
       "      <td>2018-10-07</td>\n",
       "      <td>ACTIVE</td>\n",
       "      <td>...</td>\n",
       "      <td>NaN</td>\n",
       "      <td>NaN</td>\n",
       "      <td>NaN</td>\n",
       "      <td>NaN</td>\n",
       "      <td>NaN</td>\n",
       "      <td>NaN</td>\n",
       "      <td>X</td>\n",
       "      <td>NaN</td>\n",
       "      <td>NaN</td>\n",
       "      <td>NaN</td>\n",
       "    </tr>\n",
       "    <tr>\n",
       "      <th>1</th>\n",
       "      <td>OH0024912882</td>\n",
       "      <td>18</td>\n",
       "      <td>2863244</td>\n",
       "      <td>ALLEN</td>\n",
       "      <td>MASSEIAH</td>\n",
       "      <td>A</td>\n",
       "      <td>NaN</td>\n",
       "      <td>2000-01-18</td>\n",
       "      <td>2018-10-16</td>\n",
       "      <td>ACTIVE</td>\n",
       "      <td>...</td>\n",
       "      <td>NaN</td>\n",
       "      <td>NaN</td>\n",
       "      <td>NaN</td>\n",
       "      <td>NaN</td>\n",
       "      <td>NaN</td>\n",
       "      <td>NaN</td>\n",
       "      <td>NaN</td>\n",
       "      <td>NaN</td>\n",
       "      <td>NaN</td>\n",
       "      <td>NaN</td>\n",
       "    </tr>\n",
       "    <tr>\n",
       "      <th>2</th>\n",
       "      <td>OH0024963536</td>\n",
       "      <td>18</td>\n",
       "      <td>2869946</td>\n",
       "      <td>PALLAS</td>\n",
       "      <td>KAYLA</td>\n",
       "      <td>ROSE</td>\n",
       "      <td>NaN</td>\n",
       "      <td>1988-12-06</td>\n",
       "      <td>2018-12-10</td>\n",
       "      <td>ACTIVE</td>\n",
       "      <td>...</td>\n",
       "      <td>NaN</td>\n",
       "      <td>NaN</td>\n",
       "      <td>NaN</td>\n",
       "      <td>NaN</td>\n",
       "      <td>NaN</td>\n",
       "      <td>NaN</td>\n",
       "      <td>NaN</td>\n",
       "      <td>NaN</td>\n",
       "      <td>NaN</td>\n",
       "      <td>NaN</td>\n",
       "    </tr>\n",
       "    <tr>\n",
       "      <th>3</th>\n",
       "      <td>OH0024977167</td>\n",
       "      <td>5</td>\n",
       "      <td>145646</td>\n",
       "      <td>BELLAR</td>\n",
       "      <td>RACHEL</td>\n",
       "      <td>JOANNA</td>\n",
       "      <td>NaN</td>\n",
       "      <td>1999-07-08</td>\n",
       "      <td>2018-10-23</td>\n",
       "      <td>ACTIVE</td>\n",
       "      <td>...</td>\n",
       "      <td>NaN</td>\n",
       "      <td>NaN</td>\n",
       "      <td>NaN</td>\n",
       "      <td>NaN</td>\n",
       "      <td>NaN</td>\n",
       "      <td>NaN</td>\n",
       "      <td>NaN</td>\n",
       "      <td>NaN</td>\n",
       "      <td>NaN</td>\n",
       "      <td>NaN</td>\n",
       "    </tr>\n",
       "    <tr>\n",
       "      <th>4</th>\n",
       "      <td>OH0025021489</td>\n",
       "      <td>13</td>\n",
       "      <td>6194973</td>\n",
       "      <td>HUBBLE</td>\n",
       "      <td>RODERICK</td>\n",
       "      <td>DWAYNE</td>\n",
       "      <td>II</td>\n",
       "      <td>1985-03-17</td>\n",
       "      <td>2019-02-28</td>\n",
       "      <td>ACTIVE</td>\n",
       "      <td>...</td>\n",
       "      <td>X</td>\n",
       "      <td>NaN</td>\n",
       "      <td>NaN</td>\n",
       "      <td>X</td>\n",
       "      <td>NaN</td>\n",
       "      <td>NaN</td>\n",
       "      <td>NaN</td>\n",
       "      <td>NaN</td>\n",
       "      <td>NaN</td>\n",
       "      <td>NaN</td>\n",
       "    </tr>\n",
       "  </tbody>\n",
       "</table>\n",
       "<p>5 rows × 108 columns</p>\n",
       "</div>"
      ],
      "text/plain": [
       "    SOS_VOTERID  COUNTY_NUMBER  COUNTY_ID LAST_NAME FIRST_NAME MIDDLE_NAME  \\\n",
       "0  OH0024843333             18    2854607    KERBER       RYAN           R   \n",
       "1  OH0024912882             18    2863244     ALLEN   MASSEIAH           A   \n",
       "2  OH0024963536             18    2869946    PALLAS      KAYLA        ROSE   \n",
       "3  OH0024977167              5     145646    BELLAR     RACHEL      JOANNA   \n",
       "4  OH0025021489             13    6194973    HUBBLE   RODERICK      DWAYNE   \n",
       "\n",
       "  SUFFIX DATE_OF_BIRTH REGISTRATION_DATE VOTER_STATUS  ... GENERAL-11/08/2016  \\\n",
       "0    NaN    1991-05-08        2018-10-07       ACTIVE  ...                NaN   \n",
       "1    NaN    2000-01-18        2018-10-16       ACTIVE  ...                NaN   \n",
       "2    NaN    1988-12-06        2018-12-10       ACTIVE  ...                NaN   \n",
       "3    NaN    1999-07-08        2018-10-23       ACTIVE  ...                NaN   \n",
       "4     II    1985-03-17        2019-02-28       ACTIVE  ...                  X   \n",
       "\n",
       "  PRIMARY-05/02/2017 PRIMARY-09/12/2017 GENERAL-11/07/2017 PRIMARY-05/08/2018  \\\n",
       "0                NaN                NaN                NaN                NaN   \n",
       "1                NaN                NaN                NaN                NaN   \n",
       "2                NaN                NaN                NaN                NaN   \n",
       "3                NaN                NaN                NaN                NaN   \n",
       "4                NaN                NaN                  X                NaN   \n",
       "\n",
       "   GENERAL-08/07/2018  GENERAL-11/06/2018  PRIMARY-05/07/2019  \\\n",
       "0                 NaN                   X                 NaN   \n",
       "1                 NaN                 NaN                 NaN   \n",
       "2                 NaN                 NaN                 NaN   \n",
       "3                 NaN                 NaN                 NaN   \n",
       "4                 NaN                 NaN                 NaN   \n",
       "\n",
       "   PRIMARY-09/10/2019 GENERAL-11/05/2019  \n",
       "0                 NaN                NaN  \n",
       "1                 NaN                NaN  \n",
       "2                 NaN                NaN  \n",
       "3                 NaN                NaN  \n",
       "4                 NaN                NaN  \n",
       "\n",
       "[5 rows x 108 columns]"
      ]
     },
     "execution_count": 30,
     "metadata": {},
     "output_type": "execute_result"
    }
   ],
   "source": [
    "df.head()"
   ]
  },
  {
   "cell_type": "code",
   "execution_count": 35,
   "metadata": {},
   "outputs": [
    {
     "data": {
      "text/plain": [
       "(7700810, 108)"
      ]
     },
     "execution_count": 35,
     "metadata": {},
     "output_type": "execute_result"
    }
   ],
   "source": [
    "df.shape"
   ]
  },
  {
   "cell_type": "code",
   "execution_count": 123,
   "metadata": {},
   "outputs": [],
   "source": [
    "features = list(df)"
   ]
  },
  {
   "cell_type": "code",
   "execution_count": 124,
   "metadata": {},
   "outputs": [],
   "source": [
    "na_bool = np.array(df.isna().any())"
   ]
  },
  {
   "cell_type": "code",
   "execution_count": 125,
   "metadata": {},
   "outputs": [],
   "source": [
    "na_int = np.array(df.isnull().sum())"
   ]
  },
  {
   "cell_type": "code",
   "execution_count": 138,
   "metadata": {},
   "outputs": [],
   "source": [
    "na = list(zip(features,na_bool,na_int))"
   ]
  },
  {
   "cell_type": "code",
   "execution_count": 141,
   "metadata": {},
   "outputs": [],
   "source": [
    "na_df = pd.DataFrame(na, columns = ['feature','na_bool','na_number'])"
   ]
  },
  {
   "cell_type": "code",
   "execution_count": 143,
   "metadata": {},
   "outputs": [
    {
     "data": {
      "text/html": [
       "<div>\n",
       "<style scoped>\n",
       "    .dataframe tbody tr th:only-of-type {\n",
       "        vertical-align: middle;\n",
       "    }\n",
       "\n",
       "    .dataframe tbody tr th {\n",
       "        vertical-align: top;\n",
       "    }\n",
       "\n",
       "    .dataframe thead th {\n",
       "        text-align: right;\n",
       "    }\n",
       "</style>\n",
       "<table border=\"1\" class=\"dataframe\">\n",
       "  <thead>\n",
       "    <tr style=\"text-align: right;\">\n",
       "      <th></th>\n",
       "      <th>feature</th>\n",
       "      <th>na_bool</th>\n",
       "      <th>na_number</th>\n",
       "    </tr>\n",
       "  </thead>\n",
       "  <tbody>\n",
       "    <tr>\n",
       "      <th>0</th>\n",
       "      <td>SOS_VOTERID</td>\n",
       "      <td>False</td>\n",
       "      <td>0</td>\n",
       "    </tr>\n",
       "    <tr>\n",
       "      <th>1</th>\n",
       "      <td>COUNTY_NUMBER</td>\n",
       "      <td>False</td>\n",
       "      <td>0</td>\n",
       "    </tr>\n",
       "    <tr>\n",
       "      <th>2</th>\n",
       "      <td>COUNTY_ID</td>\n",
       "      <td>False</td>\n",
       "      <td>0</td>\n",
       "    </tr>\n",
       "    <tr>\n",
       "      <th>3</th>\n",
       "      <td>LAST_NAME</td>\n",
       "      <td>True</td>\n",
       "      <td>396</td>\n",
       "    </tr>\n",
       "    <tr>\n",
       "      <th>4</th>\n",
       "      <td>FIRST_NAME</td>\n",
       "      <td>True</td>\n",
       "      <td>8</td>\n",
       "    </tr>\n",
       "    <tr>\n",
       "      <th>...</th>\n",
       "      <td>...</td>\n",
       "      <td>...</td>\n",
       "      <td>...</td>\n",
       "    </tr>\n",
       "    <tr>\n",
       "      <th>103</th>\n",
       "      <td>GENERAL-08/07/2018</td>\n",
       "      <td>True</td>\n",
       "      <td>7456409</td>\n",
       "    </tr>\n",
       "    <tr>\n",
       "      <th>104</th>\n",
       "      <td>GENERAL-11/06/2018</td>\n",
       "      <td>True</td>\n",
       "      <td>3240121</td>\n",
       "    </tr>\n",
       "    <tr>\n",
       "      <th>105</th>\n",
       "      <td>PRIMARY-05/07/2019</td>\n",
       "      <td>True</td>\n",
       "      <td>7236638</td>\n",
       "    </tr>\n",
       "    <tr>\n",
       "      <th>106</th>\n",
       "      <td>PRIMARY-09/10/2019</td>\n",
       "      <td>True</td>\n",
       "      <td>7696060</td>\n",
       "    </tr>\n",
       "    <tr>\n",
       "      <th>107</th>\n",
       "      <td>GENERAL-11/05/2019</td>\n",
       "      <td>True</td>\n",
       "      <td>7138102</td>\n",
       "    </tr>\n",
       "  </tbody>\n",
       "</table>\n",
       "<p>108 rows × 3 columns</p>\n",
       "</div>"
      ],
      "text/plain": [
       "                feature  na_bool  na_number\n",
       "0           SOS_VOTERID    False          0\n",
       "1         COUNTY_NUMBER    False          0\n",
       "2             COUNTY_ID    False          0\n",
       "3             LAST_NAME     True        396\n",
       "4            FIRST_NAME     True          8\n",
       "..                  ...      ...        ...\n",
       "103  GENERAL-08/07/2018     True    7456409\n",
       "104  GENERAL-11/06/2018     True    3240121\n",
       "105  PRIMARY-05/07/2019     True    7236638\n",
       "106  PRIMARY-09/10/2019     True    7696060\n",
       "107  GENERAL-11/05/2019     True    7138102\n",
       "\n",
       "[108 rows x 3 columns]"
      ]
     },
     "execution_count": 143,
     "metadata": {},
     "output_type": "execute_result"
    }
   ],
   "source": [
    "na_df"
   ]
  },
  {
   "cell_type": "code",
   "execution_count": 147,
   "metadata": {},
   "outputs": [],
   "source": [
    "na_df.to_csv ('MissingValues-Overview_OhioVoterFiles.csv', index=None, header=True, sep=',')"
   ]
  },
  {
   "cell_type": "code",
   "execution_count": 148,
   "metadata": {},
   "outputs": [],
   "source": [
    "df.to_csv ('OhioVoterFiles.csv', index=None, header=True, sep=',')"
   ]
  },
  {
   "cell_type": "code",
   "execution_count": null,
   "metadata": {},
   "outputs": [],
   "source": []
  }
 ],
 "metadata": {
  "kernelspec": {
   "display_name": "Python 3",
   "language": "python",
   "name": "python3"
  },
  "language_info": {
   "codemirror_mode": {
    "name": "ipython",
    "version": 3
   },
   "file_extension": ".py",
   "mimetype": "text/x-python",
   "name": "python",
   "nbconvert_exporter": "python",
   "pygments_lexer": "ipython3",
   "version": "3.7.5"
  }
 },
 "nbformat": 4,
 "nbformat_minor": 2
}
